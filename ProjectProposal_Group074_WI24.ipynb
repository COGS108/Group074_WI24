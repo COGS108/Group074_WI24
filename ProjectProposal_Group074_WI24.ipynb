{
 "cells": [
  {
   "cell_type": "markdown",
   "metadata": {},
   "source": [
    "# COGS 108 - Project Proposal"
   ]
  },
  {
   "cell_type": "markdown",
   "metadata": {},
   "source": [
    "# Names\n",
    "\n",
    "- Raymond Williams\n",
    "- Jefferson Chen\n",
    "- Olivia Cai\n",
    "- Patrick Maloney\n",
    "- Stanley Pan"
   ]
  },
  {
   "cell_type": "markdown",
   "metadata": {},
   "source": [
    "# Research Question"
   ]
  },
  {
   "cell_type": "markdown",
   "metadata": {},
   "source": [
    "How do different regional diets, as measured by vitamin, calorie, and macronutrients intake relate to weight gain/loss and longevity as overall health indicators in the 21st century? (cross-sectional)"
   ]
  },
  {
   "cell_type": "markdown",
   "metadata": {},
   "source": [
    "## Background and Prior Work"
   ]
  },
  {
   "cell_type": "markdown",
   "metadata": {},
   "source": [
    "Based on different geographical locations, people have access to different resources, climates, and agricultural commodities. Due to these factors, there are various levels of distinctions in regional diets and their consequent health impacts on their related populations. In past research according to the World Population Review,<a name=\"cite_ref-1\"></a>[<sup>1</sup>](#cite_note-1) the world’s obesity rate has grown dramatically from 13% to 39% worldwide in the past 50 years. The United States has a high rate of obesity compared to other high-income nations, staying in the 12th highest obesity rate worldwide. However, it is difficult to pinpoint which part of the American diet and lifestyle contributes to higher rates of obesity factors. Research on the relationship between obesity and culture, ethnicity, and race has been done by two MDs, Sonia Caprio, and Stephen R. Daniels.<a name=\"cite_ref-2\"></a>[<sup>2</sup>](#cite_note-2) Their research has shown that the obesity rate among children varies between different races. Specifically, Hispanic and Black children have a much higher obesity rate than White children. There’s no obvious biological difference between races that will cause a significantly different obesity rate, which raised their concerns about the food habits in the USA may cause a high obesity rate. Yet, no data is supporting their hypothesis. In a global context, different regional diets are associated with diverse health benefits and drawbacks. Therefore, this proposed study seeks to examine the relationship between regional diets and health metrics such as weight and longevity.  \n",
    "\n",
    "Previous Work:\n",
    "Recent research has shown there are “blue zones” where people are known to live longer. Studies have been done in the past regarding BMI and life expectancy comparisons, diet and life expectancy, supplements and bodily function (for example with athletes), etc.\n",
    "As of lately, evidence leans towards the impact plant-based diets have on our health, as opposed to consuming animal products. Food and living conditions are something that we do not fully know and understand, but progress is being made every day to better our knowledge.\n",
    "\n",
    "\n",
    "Citations:\n",
    "\n",
    "1. <a name=\"cite_note-1\"></a> [^](#cite_ref-1) \"Obesity Rates by Country 2024.\" World Population Review, 2024, *World Population Review* https://worldpopulationreview.com/country-rankings/obesity-rates-by-country.birds-arent-real-gen-z-misinformation.html\n",
    "2. <a name=\"cite_note-2\"></a> [^](#cite_ref-2) Hossain, Parvez, Bisher Kawar, and Meguid El Nahas. \"Obesity and Diabetes in the Developing World — A Growing Challenge.\" New England Journal of Medicine, vol. 356, no. 3, 2007, pp. 213-215. PMC, https://www.ncbi.nlm.nih.gov/pmc/articles/PMC2571048/.\n",
    "For the PLOS Medicine article:\n",
    "\n",
    "3. Henriksen, Lena, et al. \"Estimating the Global Prevalence of Type 2 Diabetes Using a Bayesian Meta-Regression.\" PLOS Medicine, vol. 18, no. 6, June 2021, https://journals.plos.org/plosmedicine/article?id=10.1371/journal.pmed.1003889.\n",
    "For the Healthline article on Blue Zones:\n",
    "\n",
    "4. Link, Rachael. \"What Are Blue Zones?.\" Healthline, 8 June 2020, https://www.healthline.com/nutrition/blue-zones#TOC_TITLE_HDR_3.\n",
    "For the first NCBI article:\n",
    "\n",
    "5. Ruiz, Jonathan, et al. \"Public Health Strategies for Preventing and Controlling Overweight and Obesity in School and Worksite Settings.\" Morbidity and Mortality Weekly Report, vol. 54, no. RR10, Oct. 2005, https://www.ncbi.nlm.nih.gov/pmc/articles/PMC7727853/.\n",
    "For the second NCBI article:\n",
    "\n",
    "6. O’Hearn, Michael, et al. \"Trends in Diagnoses of HIV Infection in the United States, 2002-2011.\" Journal of the American Medical Association, vol. 312, no. 4, July 2014, https://www.ncbi.nlm.nih.gov/pmc/articles/PMC8879056/.\n"
   ]
  },
  {
   "cell_type": "markdown",
   "metadata": {},
   "source": [
    "# Hypothesis\n"
   ]
  },
  {
   "cell_type": "markdown",
   "metadata": {},
   "source": [
    "We believe that diets in regions that have more nutritional variety and lower caloric intake yield a healthier lifestyle, in terms of longevity through life expectancy and mortality rates, and obesity rates measured with BMI. This will be due to having less processed foods more typical in larger countries requiring a larger populace to feed (in turn lowering food quality). We must consider confounding variables that may have an effect to our metrics, such as socioeconomic status, access to healthcare, environmental factors, etc."
   ]
  },
  {
   "cell_type": "markdown",
   "metadata": {},
   "source": [
    "# Data"
   ]
  },
  {
   "cell_type": "markdown",
   "metadata": {},
   "source": [
    "1. The ideal data should should include a large variety of countries that either fairly represent the region, or just a generalized region that can represent the countries (e.g. Southeast Asia, Northwest Europe, Central America, etc.). From these regions/countries, we can have specifics in terms of macronutrients and micronutrients, and the main source(s) of those nutrients, providing an answer to the typical diet in that region. Additionally, there will be population-to-nutritional information such as average caloric intake, obesity rate, weight/BMI, life expectancy. As a bonus, there could be additional information such as socioeconomic status and perhaps the percentage of processed foods present in the typical diet in that region.\n",
    "\n",
    "2.  https://globalnutritionreport.org/resources/nutrition-profiles/asia/\n",
    "    https://data.worldbank.org/indicator/SP.DYN.LE00.IN\n",
    "    https://www.prosperity.com/rankings?pinned=&rankOrScore=1&filter=\n",
    "    https://databank.worldbank.org/indicator/SH.STA.WASH.P5?Id=7f18f0c5&Report_Name=Health&populartype=series\n",
    "    https://ncdrisc.org/data-downloads-adiposity.html\n"
   ]
  },
  {
   "cell_type": "markdown",
   "metadata": {},
   "source": [
    "# Ethics & Privacy"
   ]
  },
  {
   "cell_type": "markdown",
   "metadata": {},
   "source": [
    "The data collected in this is already publicly available through resources such as Kaggle. There may be issues in terms of representation, if we do not find all countries in a dataset that can give us a proper true answer for what the healthiest diet is, but can be generalized by regions. There should not be biases in the research collected in these databases, but the inference of socioeconomic status in less wealthy countries may produce a prenotion that their diets are inferior to those that are wealthier. To combat these issues, we will ensure to collect a diverse set of data that is most representative of countries/regions while focusing on the nutritional information of a region’s diet."
   ]
  },
  {
   "cell_type": "markdown",
   "metadata": {},
   "source": [
    "# Team Expectations "
   ]
  },
  {
   "cell_type": "markdown",
   "metadata": {},
   "source": [
    "\n",
    "1. Expect to meet at least once a week. If a member cannot make it or it is a busy week, try to have 2 meetings so     that everyone can have a chance to work, or split in random groups\n",
    "\n",
    "2. Make sure to communicate if people are gonna miss an event\n",
    "\n",
    "3. Work to each other’s strengths and weaknesses (coding, reports)\n",
    "\n",
    "4. Resolve any conflicts together as a group, maintain some form of conformity throughout the project\n"
   ]
  },
  {
   "cell_type": "markdown",
   "metadata": {},
   "source": [
    "# Project Timeline Proposal"
   ]
  },
  {
   "cell_type": "markdown",
   "metadata": {},
   "source": [
    "Specify your team's specific project timeline. An example timeline has been provided. Changes the dates, times, names, and details to fit your group's plan.\n",
    "\n",
    "If you think you will need any special resources or training outside what we have covered in COGS 108 to solve your problem, then your proposal should state these clearly. For example, if you have selected a problem that involves implementing multiple neural networks, please state this so we can make sure you know what you’re doing and so we can point you to resources you will need to implement your project. Note that you are not required to use outside methods.\n",
    "\n",
    "\n",
    "\n",
    "| Meeting Date  | Meeting Time| Completed Before Meeting  | Discuss at Meeting |\n",
    "|---|---|---|---|\n",
    "| 2/7  |  3 PM | Read & Think about COGS 108 expectations; brainstorm topics/questions  | Discuss and decide on final project topic; discuss hypothesis; begin background research | \n",
    "| 2/11  |  1 PM |  Find the proper datasets, do more background research and finish the general layout of the proposal.| Determine which dataset(s) to use and the ethics behind it. Finalize the project proposal. | \n",
    "| 2/14  | 6 PM  | Describe the dataset(s) and briefly understand its information. | Discuss Wrangling and possible analytical approaches; Assign group members to lead each specific part  |\n",
    "| 2/21  | 3 PM  |Completely summarized each dataset, and started to clean the datasets. | Further turns the datasets into a usable format. Summarize the reasons and strategies used to clean the datasets. |\n",
    "| 2/25  | 1 PM  | Each member finished their cleaning of the datasets. | Complete the summarization of datasets and final check any negligence in cleaning datasets. |\n",
    "| 2/28  | 3 PM  | Import & Wrangle Data. Brainstorming any potential way to analyze the datasets. | Review/Edit wrangling/EDA; Discuss Analysis Plan |\n",
    "| 3/6  | 3 PM  | Each member should finish analyzing most portions of their assigned parts. A brief summary of what they did. | Gather the analyzed results from each person, and discuss if any additional analysis should be done. Make sure the procedures are correct, and start to write summaries. |\n",
    "| 3/10  | 1 PM  | Complete analysis of the datasets. | Double-check the analysis. Finalizing the summaries. |\n",
    "| 3/13  | 3 PM  | Brainstorm on how to put everything together | Discuss how to put everything together. Start to put each part together and write up summaries. |\n",
    "| 3/20  | 3 PM  | Finalizing Everything | Finalizing everything. |"
   ]
  },
  {
   "cell_type": "markdown",
   "metadata": {},
   "source": []
  },
  {
   "cell_type": "markdown",
   "metadata": {},
   "source": []
  }
 ],
 "metadata": {
  "kernelspec": {
   "display_name": "Python 3 (ipykernel)",
   "language": "python",
   "name": "python3"
  },
  "language_info": {
   "codemirror_mode": {
    "name": "ipython",
    "version": 3
   },
   "file_extension": ".py",
   "mimetype": "text/x-python",
   "name": "python",
   "nbconvert_exporter": "python",
   "pygments_lexer": "ipython3",
   "version": "3.9.7"
  }
 },
 "nbformat": 4,
 "nbformat_minor": 2
}
